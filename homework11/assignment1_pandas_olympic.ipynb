{
 "cells": [
  {
   "cell_type": "code",
   "execution_count": 1,
   "metadata": {},
   "outputs": [],
   "source": [
    "import pandas as pd"
   ]
  },
  {
   "cell_type": "code",
   "execution_count": 9,
   "metadata": {},
   "outputs": [],
   "source": [
    "path = \"athlete_events.csv\""
   ]
  },
  {
   "cell_type": "code",
   "execution_count": 54,
   "metadata": {},
   "outputs": [
    {
     "data": {
      "text/html": [
       "<div>\n",
       "<style scoped>\n",
       "    .dataframe tbody tr th:only-of-type {\n",
       "        vertical-align: middle;\n",
       "    }\n",
       "\n",
       "    .dataframe tbody tr th {\n",
       "        vertical-align: top;\n",
       "    }\n",
       "\n",
       "    .dataframe thead th {\n",
       "        text-align: right;\n",
       "    }\n",
       "</style>\n",
       "<table border=\"1\" class=\"dataframe\">\n",
       "  <thead>\n",
       "    <tr style=\"text-align: right;\">\n",
       "      <th></th>\n",
       "      <th>ID</th>\n",
       "      <th>Name</th>\n",
       "      <th>Sex</th>\n",
       "      <th>Age</th>\n",
       "      <th>Height</th>\n",
       "      <th>Weight</th>\n",
       "      <th>Team</th>\n",
       "      <th>NOC</th>\n",
       "      <th>Games</th>\n",
       "      <th>Year</th>\n",
       "      <th>Season</th>\n",
       "      <th>City</th>\n",
       "      <th>Sport</th>\n",
       "      <th>Event</th>\n",
       "      <th>Medal</th>\n",
       "    </tr>\n",
       "  </thead>\n",
       "  <tbody>\n",
       "    <tr>\n",
       "      <th>437</th>\n",
       "      <td>244</td>\n",
       "      <td>Raouf Abdelraouf</td>\n",
       "      <td>M</td>\n",
       "      <td>22.0</td>\n",
       "      <td>167.0</td>\n",
       "      <td>63.0</td>\n",
       "      <td>Egypt</td>\n",
       "      <td>EGY</td>\n",
       "      <td>2000 Summer</td>\n",
       "      <td>2000</td>\n",
       "      <td>Summer</td>\n",
       "      <td>Sydney</td>\n",
       "      <td>Gymnastics</td>\n",
       "      <td>Gymnastics Men's Individual All-Around</td>\n",
       "      <td>NaN</td>\n",
       "    </tr>\n",
       "    <tr>\n",
       "      <th>438</th>\n",
       "      <td>244</td>\n",
       "      <td>Raouf Abdelraouf</td>\n",
       "      <td>M</td>\n",
       "      <td>22.0</td>\n",
       "      <td>167.0</td>\n",
       "      <td>63.0</td>\n",
       "      <td>Egypt</td>\n",
       "      <td>EGY</td>\n",
       "      <td>2000 Summer</td>\n",
       "      <td>2000</td>\n",
       "      <td>Summer</td>\n",
       "      <td>Sydney</td>\n",
       "      <td>Gymnastics</td>\n",
       "      <td>Gymnastics Men's Horse Vault</td>\n",
       "      <td>NaN</td>\n",
       "    </tr>\n",
       "    <tr>\n",
       "      <th>439</th>\n",
       "      <td>244</td>\n",
       "      <td>Raouf Abdelraouf</td>\n",
       "      <td>M</td>\n",
       "      <td>22.0</td>\n",
       "      <td>167.0</td>\n",
       "      <td>63.0</td>\n",
       "      <td>Egypt</td>\n",
       "      <td>EGY</td>\n",
       "      <td>2000 Summer</td>\n",
       "      <td>2000</td>\n",
       "      <td>Summer</td>\n",
       "      <td>Sydney</td>\n",
       "      <td>Gymnastics</td>\n",
       "      <td>Gymnastics Men's Parallel Bars</td>\n",
       "      <td>NaN</td>\n",
       "    </tr>\n",
       "    <tr>\n",
       "      <th>440</th>\n",
       "      <td>244</td>\n",
       "      <td>Raouf Abdelraouf</td>\n",
       "      <td>M</td>\n",
       "      <td>22.0</td>\n",
       "      <td>167.0</td>\n",
       "      <td>63.0</td>\n",
       "      <td>Egypt</td>\n",
       "      <td>EGY</td>\n",
       "      <td>2000 Summer</td>\n",
       "      <td>2000</td>\n",
       "      <td>Summer</td>\n",
       "      <td>Sydney</td>\n",
       "      <td>Gymnastics</td>\n",
       "      <td>Gymnastics Men's Rings</td>\n",
       "      <td>NaN</td>\n",
       "    </tr>\n",
       "    <tr>\n",
       "      <th>441</th>\n",
       "      <td>244</td>\n",
       "      <td>Raouf Abdelraouf</td>\n",
       "      <td>M</td>\n",
       "      <td>22.0</td>\n",
       "      <td>167.0</td>\n",
       "      <td>63.0</td>\n",
       "      <td>Egypt</td>\n",
       "      <td>EGY</td>\n",
       "      <td>2000 Summer</td>\n",
       "      <td>2000</td>\n",
       "      <td>Summer</td>\n",
       "      <td>Sydney</td>\n",
       "      <td>Gymnastics</td>\n",
       "      <td>Gymnastics Men's Pommelled Horse</td>\n",
       "      <td>NaN</td>\n",
       "    </tr>\n",
       "    <tr>\n",
       "      <th>...</th>\n",
       "      <td>...</td>\n",
       "      <td>...</td>\n",
       "      <td>...</td>\n",
       "      <td>...</td>\n",
       "      <td>...</td>\n",
       "      <td>...</td>\n",
       "      <td>...</td>\n",
       "      <td>...</td>\n",
       "      <td>...</td>\n",
       "      <td>...</td>\n",
       "      <td>...</td>\n",
       "      <td>...</td>\n",
       "      <td>...</td>\n",
       "      <td>...</td>\n",
       "      <td>...</td>\n",
       "    </tr>\n",
       "    <tr>\n",
       "      <th>270485</th>\n",
       "      <td>135291</td>\n",
       "      <td>Roman Volodymyrovych Zozulia</td>\n",
       "      <td>M</td>\n",
       "      <td>21.0</td>\n",
       "      <td>164.0</td>\n",
       "      <td>59.0</td>\n",
       "      <td>Ukraine</td>\n",
       "      <td>UKR</td>\n",
       "      <td>2000 Summer</td>\n",
       "      <td>2000</td>\n",
       "      <td>Summer</td>\n",
       "      <td>Sydney</td>\n",
       "      <td>Gymnastics</td>\n",
       "      <td>Gymnastics Men's Horse Vault</td>\n",
       "      <td>NaN</td>\n",
       "    </tr>\n",
       "    <tr>\n",
       "      <th>270486</th>\n",
       "      <td>135291</td>\n",
       "      <td>Roman Volodymyrovych Zozulia</td>\n",
       "      <td>M</td>\n",
       "      <td>21.0</td>\n",
       "      <td>164.0</td>\n",
       "      <td>59.0</td>\n",
       "      <td>Ukraine</td>\n",
       "      <td>UKR</td>\n",
       "      <td>2000 Summer</td>\n",
       "      <td>2000</td>\n",
       "      <td>Summer</td>\n",
       "      <td>Sydney</td>\n",
       "      <td>Gymnastics</td>\n",
       "      <td>Gymnastics Men's Parallel Bars</td>\n",
       "      <td>NaN</td>\n",
       "    </tr>\n",
       "    <tr>\n",
       "      <th>270487</th>\n",
       "      <td>135291</td>\n",
       "      <td>Roman Volodymyrovych Zozulia</td>\n",
       "      <td>M</td>\n",
       "      <td>21.0</td>\n",
       "      <td>164.0</td>\n",
       "      <td>59.0</td>\n",
       "      <td>Ukraine</td>\n",
       "      <td>UKR</td>\n",
       "      <td>2000 Summer</td>\n",
       "      <td>2000</td>\n",
       "      <td>Summer</td>\n",
       "      <td>Sydney</td>\n",
       "      <td>Gymnastics</td>\n",
       "      <td>Gymnastics Men's Horizontal Bar</td>\n",
       "      <td>NaN</td>\n",
       "    </tr>\n",
       "    <tr>\n",
       "      <th>270488</th>\n",
       "      <td>135291</td>\n",
       "      <td>Roman Volodymyrovych Zozulia</td>\n",
       "      <td>M</td>\n",
       "      <td>21.0</td>\n",
       "      <td>164.0</td>\n",
       "      <td>59.0</td>\n",
       "      <td>Ukraine</td>\n",
       "      <td>UKR</td>\n",
       "      <td>2000 Summer</td>\n",
       "      <td>2000</td>\n",
       "      <td>Summer</td>\n",
       "      <td>Sydney</td>\n",
       "      <td>Gymnastics</td>\n",
       "      <td>Gymnastics Men's Rings</td>\n",
       "      <td>NaN</td>\n",
       "    </tr>\n",
       "    <tr>\n",
       "      <th>270489</th>\n",
       "      <td>135291</td>\n",
       "      <td>Roman Volodymyrovych Zozulia</td>\n",
       "      <td>M</td>\n",
       "      <td>21.0</td>\n",
       "      <td>164.0</td>\n",
       "      <td>59.0</td>\n",
       "      <td>Ukraine</td>\n",
       "      <td>UKR</td>\n",
       "      <td>2000 Summer</td>\n",
       "      <td>2000</td>\n",
       "      <td>Summer</td>\n",
       "      <td>Sydney</td>\n",
       "      <td>Gymnastics</td>\n",
       "      <td>Gymnastics Men's Pommelled Horse</td>\n",
       "      <td>NaN</td>\n",
       "    </tr>\n",
       "  </tbody>\n",
       "</table>\n",
       "<p>1144 rows × 15 columns</p>\n",
       "</div>"
      ],
      "text/plain": [
       "            ID                          Name Sex   Age  Height  Weight  \\\n",
       "437        244              Raouf Abdelraouf   M  22.0   167.0    63.0   \n",
       "438        244              Raouf Abdelraouf   M  22.0   167.0    63.0   \n",
       "439        244              Raouf Abdelraouf   M  22.0   167.0    63.0   \n",
       "440        244              Raouf Abdelraouf   M  22.0   167.0    63.0   \n",
       "441        244              Raouf Abdelraouf   M  22.0   167.0    63.0   \n",
       "...        ...                           ...  ..   ...     ...     ...   \n",
       "270485  135291  Roman Volodymyrovych Zozulia   M  21.0   164.0    59.0   \n",
       "270486  135291  Roman Volodymyrovych Zozulia   M  21.0   164.0    59.0   \n",
       "270487  135291  Roman Volodymyrovych Zozulia   M  21.0   164.0    59.0   \n",
       "270488  135291  Roman Volodymyrovych Zozulia   M  21.0   164.0    59.0   \n",
       "270489  135291  Roman Volodymyrovych Zozulia   M  21.0   164.0    59.0   \n",
       "\n",
       "           Team  NOC        Games  Year  Season    City       Sport  \\\n",
       "437       Egypt  EGY  2000 Summer  2000  Summer  Sydney  Gymnastics   \n",
       "438       Egypt  EGY  2000 Summer  2000  Summer  Sydney  Gymnastics   \n",
       "439       Egypt  EGY  2000 Summer  2000  Summer  Sydney  Gymnastics   \n",
       "440       Egypt  EGY  2000 Summer  2000  Summer  Sydney  Gymnastics   \n",
       "441       Egypt  EGY  2000 Summer  2000  Summer  Sydney  Gymnastics   \n",
       "...         ...  ...          ...   ...     ...     ...         ...   \n",
       "270485  Ukraine  UKR  2000 Summer  2000  Summer  Sydney  Gymnastics   \n",
       "270486  Ukraine  UKR  2000 Summer  2000  Summer  Sydney  Gymnastics   \n",
       "270487  Ukraine  UKR  2000 Summer  2000  Summer  Sydney  Gymnastics   \n",
       "270488  Ukraine  UKR  2000 Summer  2000  Summer  Sydney  Gymnastics   \n",
       "270489  Ukraine  UKR  2000 Summer  2000  Summer  Sydney  Gymnastics   \n",
       "\n",
       "                                         Event Medal  \n",
       "437     Gymnastics Men's Individual All-Around   NaN  \n",
       "438               Gymnastics Men's Horse Vault   NaN  \n",
       "439             Gymnastics Men's Parallel Bars   NaN  \n",
       "440                     Gymnastics Men's Rings   NaN  \n",
       "441           Gymnastics Men's Pommelled Horse   NaN  \n",
       "...                                        ...   ...  \n",
       "270485            Gymnastics Men's Horse Vault   NaN  \n",
       "270486          Gymnastics Men's Parallel Bars   NaN  \n",
       "270487         Gymnastics Men's Horizontal Bar   NaN  \n",
       "270488                  Gymnastics Men's Rings   NaN  \n",
       "270489        Gymnastics Men's Pommelled Horse   NaN  \n",
       "\n",
       "[1144 rows x 15 columns]"
      ]
     },
     "execution_count": 54,
     "metadata": {},
     "output_type": "execute_result"
    }
   ],
   "source": [
    "data = pd.read_csv(path)\n",
    "data[(data['Year'] == 2000) & (data['Sport'] == 'Gymnastics')]"
   ]
  },
  {
   "cell_type": "markdown",
   "metadata": {},
   "source": [
    "1. How old were the youngest male and female participants of the 1996 Olympics?"
   ]
  },
  {
   "cell_type": "code",
   "execution_count": 19,
   "metadata": {},
   "outputs": [
    {
     "data": {
      "text/plain": [
       "14.0"
      ]
     },
     "execution_count": 19,
     "metadata": {},
     "output_type": "execute_result"
    }
   ],
   "source": [
    "data[(data['Year'] == 1996) & (data['Sex'] == 'M')]['Age'].min()"
   ]
  },
  {
   "cell_type": "code",
   "execution_count": 20,
   "metadata": {},
   "outputs": [
    {
     "data": {
      "text/plain": [
       "12.0"
      ]
     },
     "execution_count": 20,
     "metadata": {},
     "output_type": "execute_result"
    }
   ],
   "source": [
    "data[(data['Year'] == 1996) & (data['Sex'] == 'F')]['Age'].min()"
   ]
  },
  {
   "cell_type": "markdown",
   "metadata": {},
   "source": [
    "2. What was the percentage of male gymnasts among all the male participants of the 2000 Olympics? Round the answer to the first decimal."
   ]
  },
  {
   "cell_type": "code",
   "execution_count": 63,
   "metadata": {},
   "outputs": [
    {
     "data": {
      "text/plain": [
       "1.5"
      ]
     },
     "execution_count": 63,
     "metadata": {},
     "output_type": "execute_result"
    }
   ],
   "source": [
    "data2 = data[(data['Sex'] == 'M') & (data['Year'] == 2000)].drop_duplicates(subset = 'Name')\n",
    "gym = data2[(data2['Sport'] == 'Gymnastics')].shape[0]\n",
    "alll = data2.shape[0]\n",
    "round(gym/alll * 100, 1)"
   ]
  },
  {
   "cell_type": "markdown",
   "metadata": {},
   "source": [
    "3. What are the mean and standard deviation of height for female basketball players participated in the 2000 Olympics?"
   ]
  },
  {
   "cell_type": "code",
   "execution_count": 74,
   "metadata": {},
   "outputs": [
    {
     "data": {
      "text/plain": [
       "182.4"
      ]
     },
     "execution_count": 74,
     "metadata": {},
     "output_type": "execute_result"
    }
   ],
   "source": [
    "data2 = data[(data['Sex'] == 'F') & (data['Year'] == 2000) & \n",
    "             (data['Sport'] == 'Basketball')].drop_duplicates(subset = 'Name')\n",
    "round(data2['Height'].mean(), 1)"
   ]
  },
  {
   "cell_type": "code",
   "execution_count": 72,
   "metadata": {},
   "outputs": [
    {
     "data": {
      "text/plain": [
       "9.1"
      ]
     },
     "execution_count": 72,
     "metadata": {},
     "output_type": "execute_result"
    }
   ],
   "source": [
    "round(data2['Height'].std(), 1)"
   ]
  },
  {
   "cell_type": "markdown",
   "metadata": {},
   "source": [
    "4. Find a sportsperson participated in the 2002 Olympics, with the highest weight among other participants of the same Olympics. What sport did he or she do?"
   ]
  },
  {
   "cell_type": "code",
   "execution_count": 76,
   "metadata": {},
   "outputs": [
    {
     "data": {
      "text/plain": [
       "99154    Bobsleigh\n",
       "Name: Sport, dtype: object"
      ]
     },
     "execution_count": 76,
     "metadata": {},
     "output_type": "execute_result"
    }
   ],
   "source": [
    "data2 = data[(data['Year'] == 2002)].drop_duplicates(subset = 'Name')\n",
    "data2[(data2['Weight'] == data2['Weight'].max())]['Sport']"
   ]
  },
  {
   "cell_type": "markdown",
   "metadata": {},
   "source": [
    "5. How many times did Pawe Abratkiewicz participate in the Olympics held in different years?"
   ]
  },
  {
   "cell_type": "code",
   "execution_count": 79,
   "metadata": {},
   "outputs": [
    {
     "data": {
      "text/plain": [
       "3"
      ]
     },
     "execution_count": 79,
     "metadata": {},
     "output_type": "execute_result"
    }
   ],
   "source": [
    "data[(data['Name'] == 'Pawe Abratkiewicz')].drop_duplicates(subset = 'Year').shape[0]"
   ]
  },
  {
   "cell_type": "markdown",
   "metadata": {},
   "source": [
    "6. How many silver medals in tennis did Australia win at the 2000 Olympics?"
   ]
  },
  {
   "cell_type": "code",
   "execution_count": 81,
   "metadata": {},
   "outputs": [
    {
     "data": {
      "text/plain": [
       "2"
      ]
     },
     "execution_count": 81,
     "metadata": {},
     "output_type": "execute_result"
    }
   ],
   "source": [
    "data[(data['Team'] == 'Australia') & (data['Year'] == 2000) & (data['Medal'] == 'Silver') & \n",
    "    (data['Sport'] == 'Tennis')].shape[0]"
   ]
  },
  {
   "cell_type": "markdown",
   "metadata": {},
   "source": [
    "7. Is it true that Switzerland won fewer medals than Serbia at the 2016 Olympics? Do not consider NaN values in Medal column."
   ]
  },
  {
   "cell_type": "code",
   "execution_count": 83,
   "metadata": {},
   "outputs": [
    {
     "data": {
      "text/plain": [
       "True"
      ]
     },
     "execution_count": 83,
     "metadata": {},
     "output_type": "execute_result"
    }
   ],
   "source": [
    "swtz = data[(data['Year'] == 2016) & (data['Team'] == 'Switzerland') &\n",
    "    (data['Medal'].isnull() == False)].shape[0]\n",
    "serb = data[(data['Year'] == 2016) & (data['Team'] == 'Serbia') &\n",
    "    (data['Medal'].isnull() == False)].shape[0]\n",
    "swtz < serb"
   ]
  },
  {
   "cell_type": "markdown",
   "metadata": {},
   "source": [
    "8. What age category did the fewest and the most participants of the 2014 Olympics belong to?\n",
    "[45-55] and [25-35) correspondingly\n",
    "[45-55] and [15-25) correspondingly\n",
    "[35-45] and [25-35) correspondingly\n",
    "[45-55] and [35-45) correspondingly"
   ]
  },
  {
   "cell_type": "code",
   "execution_count": 95,
   "metadata": {},
   "outputs": [
    {
     "name": "stdout",
     "output_type": "stream",
     "text": [
      "most = [25-35)\n",
      "fewest = [45-55]\n"
     ]
    }
   ],
   "source": [
    "data2 = data[(data['Year'] == 2014)]\n",
    "fr15to25 = data2[(data2['Age'] >= 15) & (data2['Age'] < 25)].shape[0]\n",
    "fr25to35 = data2[(data2['Age'] >= 25) & (data2['Age'] < 35)].shape[0]\n",
    "fr35to45 = data2[(data2['Age'] >= 35) & (data2['Age'] <= 45)].shape[0]\n",
    "fr45to55 = data2[(data2['Age'] >= 45) & (data2['Age'] <= 55)].shape[0]\n",
    "categories = {'[15-25)':fr15to25, \n",
    "              '[25-35)':fr25to35,\n",
    "              '[35-45]':fr35to45, \n",
    "              '[45-55]':fr45to55}\n",
    "mi = min(categories.values())\n",
    "ma = max(categories.values())\n",
    "for k, v in categories.items():\n",
    "    if v == mi:\n",
    "        print('fewest =', k)\n",
    "    elif v == ma:\n",
    "        print('most =', k)"
   ]
  },
  {
   "cell_type": "markdown",
   "metadata": {},
   "source": [
    "9. Is it true that there were Summer Olympics held in Lake Placid? Is it true that there were Winter Olympics held in Sankt Moritz?"
   ]
  },
  {
   "cell_type": "code",
   "execution_count": 97,
   "metadata": {},
   "outputs": [
    {
     "name": "stdout",
     "output_type": "stream",
     "text": [
      "No\n"
     ]
    }
   ],
   "source": [
    "if data[(data['Season'] == 'Summer') & (data['City'] == 'Lake Placid')].shape[0] > 0:\n",
    "    print('Yes')\n",
    "else:\n",
    "    print('No')"
   ]
  },
  {
   "cell_type": "code",
   "execution_count": 99,
   "metadata": {},
   "outputs": [
    {
     "name": "stdout",
     "output_type": "stream",
     "text": [
      "Yes\n"
     ]
    }
   ],
   "source": [
    "if data[(data['Season'] == 'Winter') & (data['City'] == 'Sankt Moritz')].shape[0] > 0:\n",
    "    print('Yes')\n",
    "else:\n",
    "    print('No')"
   ]
  },
  {
   "cell_type": "markdown",
   "metadata": {},
   "source": [
    "10. What is the absolute difference between the number of unique sports at the 1995 Olympics and 2016 Olympics?"
   ]
  },
  {
   "cell_type": "code",
   "execution_count": 104,
   "metadata": {},
   "outputs": [
    {
     "data": {
      "text/plain": [
       "34"
      ]
     },
     "execution_count": 104,
     "metadata": {},
     "output_type": "execute_result"
    }
   ],
   "source": [
    "y1995 = data[(data['Year'] == 1995)].drop_duplicates(subset = 'Sport').shape[0]\n",
    "y2016 = data[(data['Year'] == 2016)].drop_duplicates(subset = 'Sport').shape[0]\n",
    "y2016 - y1995"
   ]
  },
  {
   "cell_type": "code",
   "execution_count": null,
   "metadata": {},
   "outputs": [],
   "source": []
  }
 ],
 "metadata": {
  "kernelspec": {
   "display_name": "Python 3",
   "language": "python",
   "name": "python3"
  },
  "language_info": {
   "codemirror_mode": {
    "name": "ipython",
    "version": 3
   },
   "file_extension": ".py",
   "mimetype": "text/x-python",
   "name": "python",
   "nbconvert_exporter": "python",
   "pygments_lexer": "ipython3",
   "version": "3.8.1"
  }
 },
 "nbformat": 4,
 "nbformat_minor": 4
}
