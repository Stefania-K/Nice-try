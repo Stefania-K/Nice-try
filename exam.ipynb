{
 "cells": [
  {
   "cell_type": "code",
   "execution_count": 4,
   "metadata": {},
   "outputs": [],
   "source": [
    "import numpy as np"
   ]
  },
  {
   "cell_type": "code",
   "execution_count": 81,
   "metadata": {},
   "outputs": [],
   "source": [
    "class KNearestNeighbours:\n",
    "    def __init__(self, k: int = 1) -> None:\n",
    "        self.k = k\n",
    "\n",
    "    def fit(self, X, y):\n",
    "        self.neighbours = [[] for _ in range(len(X))]\n",
    "        self.predictions = []\n",
    "        self.X = X\n",
    "        for i, x in enumerate(X):\n",
    "            distences = []\n",
    "            for j, x1 in enumerate(X):\n",
    "                distence = np.linalg.norm(x - x1)\n",
    "                distences.append((distence, j))\n",
    "            distences = sorted(distences)\n",
    "            for k in range(self.k):\n",
    "                self.neighbours[i].append((distences[k+1][1]))\n",
    "        for ele in self.neighbours:\n",
    "            y_pred = sum([y[ele[i]] for i in range(len(ele))]) / self.k\n",
    "            self.predictions.append(y_pred)\n",
    "        \n",
    "                \n",
    "    def predict(self, X):\n",
    "        predictions = []\n",
    "        neighbours = [[] for _ in range(len(X))]\n",
    "        for i, x in enumerate(X):\n",
    "            distences = []\n",
    "            for j, x1 in enumerate(self.X):\n",
    "                distence = np.linalg.norm(x - x1)\n",
    "                distences.append((distence, j))\n",
    "            distences = sorted(distences)\n",
    "            for k in range(self.k):\n",
    "                neighbours[i].append((distences[k+1][1]))\n",
    "        for ele in neighbours:\n",
    "            for i in range(len(self.neighbours)):\n",
    "                if sorted(ele) == self.neighbours[i]:\n",
    "                    predictions.append(self.predictions[i])\n",
    "                else: \n",
    "                    continue\n",
    "        return predictions\n",
    "        "
   ]
  },
  {
   "cell_type": "code",
   "execution_count": 56,
   "metadata": {},
   "outputs": [
    {
     "output_type": "execute_result",
     "data": {
      "text/plain": "[array([1, 1]),\n array([2, 2]),\n array([3, 3]),\n array([4, 4]),\n array([5, 5]),\n array([6, 6]),\n array([7, 7]),\n array([8, 8]),\n array([9, 9]),\n array([10, 10]),\n array([11, 11]),\n array([12, 12]),\n array([13, 13]),\n array([14, 14]),\n array([15, 15]),\n array([16, 16]),\n array([17, 17]),\n array([18, 18]),\n array([19, 19]),\n array([20, 20])]"
     },
     "metadata": {},
     "execution_count": 56
    }
   ],
   "source": [
    "x = np.arange(1, 21)\n",
    "x1 = []\n",
    "for ele in x:\n",
    "    x1.append(np.array([ele, ele]))\n",
    "x1"
   ]
  },
  {
   "cell_type": "code",
   "execution_count": 16,
   "metadata": {},
   "outputs": [
    {
     "output_type": "execute_result",
     "data": {
      "text/plain": "array([ 1,  2,  3,  4,  5,  6,  7,  8,  9, 10, 11, 12, 13, 14, 15, 16, 17,\n       18, 19, 20])"
     },
     "metadata": {},
     "execution_count": 16
    }
   ],
   "source": [
    "x"
   ]
  },
  {
   "cell_type": "code",
   "execution_count": 85,
   "metadata": {},
   "outputs": [
    {
     "output_type": "execute_result",
     "data": {
      "text/plain": "[3.0, 2.0]"
     },
     "metadata": {},
     "execution_count": 85
    }
   ],
   "source": [
    "model = KNearestNeighbours(2)\n",
    "model.fit(x1, x)\n",
    "X = [(3, 3), (2.2, 2.2)]\n",
    "model.predict(X)"
   ]
  },
  {
   "cell_type": "code",
   "execution_count": 83,
   "metadata": {},
   "outputs": [
    {
     "output_type": "execute_result",
     "data": {
      "text/plain": "[2.5,\n 2.0,\n 3.0,\n 4.0,\n 5.0,\n 6.0,\n 7.0,\n 8.0,\n 9.0,\n 10.0,\n 11.0,\n 12.0,\n 13.0,\n 14.0,\n 15.0,\n 16.0,\n 17.0,\n 18.0,\n 19.0,\n 18.5]"
     },
     "metadata": {},
     "execution_count": 83
    }
   ],
   "source": [
    "model.predictions"
   ]
  },
  {
   "cell_type": "code",
   "execution_count": null,
   "metadata": {},
   "outputs": [],
   "source": []
  }
 ],
 "metadata": {
  "kernelspec": {
   "display_name": "Python 3.8.1 64-bit",
   "language": "python",
   "name": "python38164bit14a31e9585784acab6277a0870a35e6a"
  },
  "language_info": {
   "codemirror_mode": {
    "name": "ipython",
    "version": 3
   },
   "file_extension": ".py",
   "mimetype": "text/x-python",
   "name": "python",
   "nbconvert_exporter": "python",
   "pygments_lexer": "ipython3",
   "version": "3.8.3-final"
  }
 },
 "nbformat": 4,
 "nbformat_minor": 4
}